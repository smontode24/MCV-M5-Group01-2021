{
 "cells": [
  {
   "cell_type": "code",
   "execution_count": 18,
   "metadata": {},
   "outputs": [],
   "source": [
    "import pandas as pd\n",
    "import numpy as np\n",
    "import matplotlib.pyplot as plt\n",
    "import seaborn as sns\n",
    "import os"
   ]
  },
  {
   "cell_type": "code",
   "execution_count": 19,
   "metadata": {},
   "outputs": [],
   "source": []
  },
  {
   "cell_type": "code",
   "execution_count": 26,
   "metadata": {},
   "outputs": [
    {
     "data": {
      "text/plain": [
       "'\\nreorder = {\\n    \"car\": \"car\", \\n    \"cyclist\": \"person_sitting\", \\n    \"pedestrian\": \"van\", \\n    \"person_sitting\": \"truck\", \\n    \"tram\": \"tram\", \\n    \"truck\": \"cyclist\", \\n    \"van\": \"pedestrian\"\\n}\\n\\nfor cl in reorder:\\n    path = os.path.join(csv_folder, cl + \"_detection\")\\n    os.system(f\"cp {path}.gp {path}2.gp\")\\n    os.system(f\"cp {path}.txt {path}2.txt\")\\n                        \\nfor cl in reorder:\\n    path_old = os.path.join(csv_folder, reorder[cl] + \"_detection\")\\n    path = os.path.join(csv_folder, cl + \"_detection\")\\n    os.system(f\"cp {path_old}2.gp {path}.gp\")\\n    os.system(f\"cp {path_old}2.txt {path}.txt\")\\n    \\n'"
      ]
     },
     "execution_count": 26,
     "metadata": {},
     "output_type": "execute_result"
    }
   ],
   "source": [
    "'''\n",
    "reorder = {\n",
    "    \"car\": \"car\", \n",
    "    \"cyclist\": \"person_sitting\", \n",
    "    \"pedestrian\": \"van\", \n",
    "    \"person_sitting\": \"truck\", \n",
    "    \"tram\": \"tram\", \n",
    "    \"truck\": \"cyclist\", \n",
    "    \"van\": \"pedestrian\"\n",
    "}\n",
    "\n",
    "for cl in reorder:\n",
    "    path = os.path.join(csv_folder, cl + \"_detection\")\n",
    "    os.system(f\"cp {path}.gp {path}2.gp\")\n",
    "    os.system(f\"cp {path}.txt {path}2.txt\")\n",
    "                        \n",
    "for cl in reorder:\n",
    "    path_old = os.path.join(csv_folder, reorder[cl] + \"_detection\")\n",
    "    path = os.path.join(csv_folder, cl + \"_detection\")\n",
    "    os.system(f\"cp {path_old}2.gp {path}.gp\")\n",
    "    os.system(f\"cp {path_old}2.txt {path}.txt\")\n",
    "    \n",
    "'''"
   ]
  },
  {
   "cell_type": "code",
   "execution_count": 27,
   "metadata": {},
   "outputs": [
    {
     "data": {
      "text/plain": [
       "['./eval/faster_balanced_longer/car_detection.txt',\n",
       " './eval/faster_balanced_longer/cyclist_detection.txt',\n",
       " './eval/faster_balanced_longer/pedestrian_detection.txt',\n",
       " './eval/faster_balanced_longer/person_sitting_detection.txt',\n",
       " './eval/faster_balanced_longer/tram_detection.txt',\n",
       " './eval/faster_balanced_longer/truck_detection.txt',\n",
       " './eval/faster_balanced_longer/van_detection.txt']"
      ]
     },
     "execution_count": 27,
     "metadata": {},
     "output_type": "execute_result"
    }
   ],
   "source": [
    "csv_folder = \"./eval/faster_balanced_longer\"\n",
    "classes = [\"car\", \"cyclist\", \"pedestrian\", \"person_sitting\", \"tram\", \"truck\", \"van\"]\n",
    "classes = [os.path.join(csv_folder, cl + \"_detection.txt\") for cl in classes]\n",
    "classes"
   ]
  },
  {
   "cell_type": "code",
   "execution_count": 28,
   "metadata": {},
   "outputs": [
    {
     "name": "stdout",
     "output_type": "stream",
     "text": [
      "EASY_AUC: 0.5393796724738676\n",
      "MODERATE_AUC: 0.7072994459930313\n",
      "HARD_AUC: 0.7278312857142857\n"
     ]
    }
   ],
   "source": [
    "results = np.zeros((41, 4))\n",
    "for cl in classes:\n",
    "    with open(cl, \"r\") as f:\n",
    "        for i in range(41):\n",
    "            line = f.readline().replace(\"\\n\", \"\")\n",
    "            arr = np.array([float(l) for l in line.split(\" \")])\n",
    "            results[i, 0] = arr[0]\n",
    "            results[i, 1:] += arr[1:]\n",
    "    \n",
    "results[:, 1:] /= len(classes)\n",
    "results\n",
    "print(f\"EASY_AUC: {results[:, 1].mean()}\")\n",
    "print(f\"MODERATE_AUC: {results[:, 2].mean()}\")\n",
    "print(f\"HARD_AUC: {results[:, 3].mean()}\")"
   ]
  },
  {
   "cell_type": "code",
   "execution_count": 29,
   "metadata": {},
   "outputs": [],
   "source": [
    "\n",
    "with open(os.path.join(csv_folder, \"all_detection.txt\"), \"w+\") as f:\n",
    "    for i in range(41):\n",
    "        line = f\"{results[i][0]:.6f} {results[i][1]:.6f} {results[i][2]:.6f} {results[i][3]:.6f}\\n\"\n",
    "        f.write(line)"
   ]
  },
  {
   "cell_type": "code",
   "execution_count": 30,
   "metadata": {},
   "outputs": [
    {
     "data": {
      "text/plain": [
       "0"
      ]
     },
     "execution_count": 30,
     "metadata": {},
     "output_type": "execute_result"
    }
   ],
   "source": [
    "TITLE = \"WHATEVER\"\n",
    "with open(os.path.join(csv_folder, \"person_sitting_detection.gp\"), \"r\") as f0:\n",
    "    with open(os.path.join(csv_folder, \"person_sitting_detection_2.gp\"), \"w+\") as f:\n",
    "        for line in f0.readlines():\n",
    "            f.write(line.replace(\"Person_sitting\", \"Person sitting\"))\n",
    "            \n",
    "os.system(f\"cd {csv_folder} && mv person_sitting_detection_2.gp person_sitting_detection.gp\")"
   ]
  },
  {
   "cell_type": "code",
   "execution_count": 31,
   "metadata": {},
   "outputs": [
    {
     "data": {
      "text/plain": [
       "0"
      ]
     },
     "execution_count": 31,
     "metadata": {},
     "output_type": "execute_result"
    }
   ],
   "source": [
    "TITLE = \"WHATEVER\"\n",
    "with open(os.path.join(csv_folder, \"car_detection.gp\"), \"r\") as f0:\n",
    "    with open(os.path.join(csv_folder, \"all_detection.gp\"), \"w+\") as f:\n",
    "        for line in f0.readlines():\n",
    "            f.write(line.replace(\"car\", \"all\").replace(\"Car\", \"All classes\"))\n",
    "            \n",
    "os.system(f\"cd {csv_folder} && sh run_all.sh\")"
   ]
  },
  {
   "cell_type": "code",
   "execution_count": null,
   "metadata": {},
   "outputs": [],
   "source": []
  }
 ],
 "metadata": {
  "kernelspec": {
   "display_name": "Python 3",
   "language": "python",
   "name": "python3"
  },
  "language_info": {
   "codemirror_mode": {
    "name": "ipython",
    "version": 3
   },
   "file_extension": ".py",
   "mimetype": "text/x-python",
   "name": "python",
   "nbconvert_exporter": "python",
   "pygments_lexer": "ipython3",
   "version": "3.7.9"
  }
 },
 "nbformat": 4,
 "nbformat_minor": 4
}
